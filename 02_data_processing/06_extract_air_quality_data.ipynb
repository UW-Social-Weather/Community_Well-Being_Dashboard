{
 "cells": [
  {
   "cell_type": "markdown",
   "id": "d484b612-d8ba-460b-a250-4366079c67c7",
   "metadata": {},
   "source": [
    "# Datasource Data Processing for NRI and Air Quality Database\n",
    "Harshavardhini R harshar@uw.edu\n",
    "\n",
    "11/1/2021"
   ]
  },
  {
   "cell_type": "markdown",
   "id": "f12856f6-7128-4fe8-8449-380ca12715d2",
   "metadata": {},
   "source": [
    "## I. tbl_dataset_info"
   ]
  },
  {
   "cell_type": "code",
   "execution_count": 1,
   "id": "d473b477-69e2-4186-937f-062a6b463bfe",
   "metadata": {},
   "outputs": [],
   "source": [
    "import pandas as pd\n",
    "import numpy as np\n",
    "import os, glob\n",
    "import zipfile"
   ]
  },
  {
   "cell_type": "markdown",
   "id": "afda3f43-6b48-4f67-8eab-9e6bab6b2494",
   "metadata": {},
   "source": [
    "### C. NRI_Table_Census County & Tracts - dataset_id 3"
   ]
  },
  {
   "cell_type": "code",
   "execution_count": 20,
   "id": "ee6e2b19-0975-40b6-ad54-6e471f86eb89",
   "metadata": {},
   "outputs": [],
   "source": [
    "# county\n",
    "NRI_county = pd.read_csv(\"Datasource/dataset3_NRI/NRI_Table_Counties/NRI_Table_Counties.csv\")\n",
    "NRI_census_tract = pd.read_csv(\"Datasource/dataset3_NRI/NRI_Table_CensusTracts/NRI_Table_CensusTracts.csv\")\n",
    "NRI_test_county = NRI_county.loc[NRI_county['STATE']\n",
    "NRI_test_county = NRI_test_county.loc[NRI_test_county['COUNTY']\n"
   ]
  },
  {
   "cell_type": "code",
   "execution_count": 21,
   "id": "d436a982-2528-49ec-9ac8-6eaa11025571",
   "metadata": {},
   "outputs": [],
   "source": [
    "# tracts\n",
    "NRI_test_tracts = NRI_census_tract.loc[NRI_census_tract['STATE']\n",
    "NRI_test_tracts = NRI_test_tracts.loc[NRI_test_tracts['COUNTY']\n"
   ]
  },
  {
   "cell_type": "code",
   "execution_count": 22,
   "id": "99315478-4dbc-4a2a-ace0-73feccaeef64",
   "metadata": {},
   "outputs": [],
   "source": [
    "NRI_data = NRI_test_county.append(NRI_test_tracts,ignore_index=True)"
   ]
  },
  {
   "cell_type": "code",
   "execution_count": 23,
   "id": "e9854070-d028-4abe-ba2d-40f7f4abc386",
   "metadata": {},
   "outputs": [],
   "source": [
    "NRI_data['geo_id'] = 'US'+NRI_data['geo_id'].astype(str)\n",
    "NRI_data['year']=2020\n",
    "NRI_data['variable']=\"National Risk Index Score\"\n",
    "NRI_data['dataset_id']= 3"
   ]
  },
  {
   "cell_type": "code",
   "execution_count": 24,
   "id": "9f6035d1-f5f7-44c8-a3c1-3736750175ea",
   "metadata": {},
   "outputs": [],
   "source": [
    "dataset3_NRI = NRI_data.reindex(columns=['dataset_id','geo_id','year','variable','value'])"
   ]
  },
  {
   "cell_type": "markdown",
   "id": "6abc1751-a041-4b15-aed0-59239daaf581",
   "metadata": {},
   "source": [
    "### E. Median Air Quality by County - dataset_id 6"
   ]
  },
  {
   "cell_type": "code",
   "execution_count": 57,
   "id": "f3ab1294-ba4b-4e6d-acbf-8059fe465c00",
   "metadata": {},
   "outputs": [],
   "source": [
    "zip_files = glob.glob(os.path.join(mydir+\"/Datasource/dataset6_AQI by County 1980-2021\", \"*.zip\"))\n",
    "zip_files.sort()\n",
    "\n",
    "#read files in zipfile\n",
    "all_year_test_county = pd.DataFrame()\n",
    "for zip_file in zip_files:\n",
    "    # This is just one file. There are multiple zip files in the folder\n",
    "    zf = zipfile.ZipFile(zip_file)\n",
    "    single_year = [pd.read_csv(zf.open(f),usecols=[0,1,2,12]) for f in zf.namelist()]\n",
    "    single_year = pd.concat(single_year,ignore_index=True)\n",
    "    single_year_test_county = single_year.loc[(single_year['State']\n",
    "    all_year_test_county=all_year_test_county.append(single_year_test_county,ignore_index = True)"
   ]
  },
  {
   "cell_type": "code",
   "execution_count": 58,
   "id": "7ad9211a-6efe-4697-9ea3-1edb30242957",
   "metadata": {},
   "outputs": [],
   "source": [
    "# add geo_id\n",
    "all_year_test_county.loc[all_year_test_county['County'].str.contains('Yakima'), 'geo_id'] = county_county_geo_info['geo_id'].iloc[0]\n",
    "all_year_test_county.loc[all_year_test_county['County'].str.contains('Pierce'), 'geo_id'] = county_county_geo_info['geo_id'].iloc[1]\n",
    "all_year_test_county.loc[all_year_test_county['County'].str.contains('King'), 'geo_id'] = county_county_geo_info['geo_id'].iloc[2]\n",
    "all_year_test_county.loc[all_year_test_county['County'].str.contains('Baltimore'), 'geo_id'] = county_county_geo_info['geo_id'].iloc[3]\n",
    "all_year_test_county.loc[all_year_test_county['County'].str.contains('City'), 'geo_id'] = county_county_geo_info['geo_id'].iloc[4]\n",
    "all_year_test_county.loc[all_year_test_county['County'].str.contains(\"Prince George's\"), 'geo_id'] = county_county_geo_info['geo_id'].iloc[5]\n",
    "all_year_test_county.loc[all_year_test_county['County'].str.contains('Montgomery'), 'geo_id'] = county_county_geo_info['geo_id'].iloc[6]"
   ]
  },
  {
   "cell_type": "code",
   "execution_count": 59,
   "id": "9fb668f3-291f-4a6b-8326-92893f0e3a13",
   "metadata": {},
   "outputs": [],
   "source": [
    "all_year_test_county = all_year_test_county.drop(columns=['State','County'],axis=1)\n",
    "all_year_test_county = all_year_test_county.assign(dataset_id=6)\n",
    "all_year_test_county['variable'] = 'Median Air Quality'"
   ]
  },
  {
   "cell_type": "code",
   "execution_count": 60,
   "id": "d09feecb-f3e5-433d-b3aa-a17885714f6c",
   "metadata": {},
   "outputs": [],
   "source": [
    "# pivot columns to row\n",
    "median_AQ_pivot= all_year_test_county.set_index(['Year','variable','dataset_id','geo_id']).stack().reset_index()\n",
    "median_AQ_pivot = median_AQ_pivot.rename(columns={0: 'value'}).drop(columns='level_4',axis=1)"
   ]
  }
 ],
 "metadata": {
  "kernelspec": {
   "display_name": "Python 3 (ipykernel)",
   "language": "python",
   "name": "python3"
  },
  "language_info": {
   "codemirror_mode": {
    "name": "ipython",
    "version": 3
   },
   "file_extension": ".py",
   "mimetype": "text/x-python",
   "name": "python",
   "nbconvert_exporter": "python",
   "pygments_lexer": "ipython3",
   "version": "3.9.7"
  }
 },
 "nbformat": 4,
 "nbformat_minor": 5
}
